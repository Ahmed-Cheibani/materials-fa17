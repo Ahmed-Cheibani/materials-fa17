{
 "cells": [
  {
   "cell_type": "markdown",
   "metadata": {},
   "source": [
    "# Homework 1 Extra: Causality and Expressions\n",
    "\n",
    "Welcome! These are your first bonus exercises! In these, we will reinforce the concepts talked about in lecture and homework to give you all a place to practice or just to learn more. They're not graded; they're just for your use. Today, we will focus on two things: experiments and common Python pitfalls. Let's get started."
   ]
  },
  {
   "cell_type": "markdown",
   "metadata": {},
   "source": [
    "## 1. Jupyter"
   ]
  },
  {
   "cell_type": "markdown",
   "metadata": {},
   "source": [
    "Below we have a cell. Take a guess: How many lines will the following cell print out? Will the final print out be \"Is a planet\" or \"Is not a planet\"? Write down your answer below and then run the cell to see if you were correct."
   ]
  },
  {
   "cell_type": "markdown",
   "metadata": {},
   "source": [
    "*Write your answer here, replacing this text.*"
   ]
  },
  {
   "cell_type": "code",
   "execution_count": null,
   "metadata": {},
   "outputs": [],
   "source": [
    "Jupiter = \"Is a planet\"\n",
    "Pluto = \"Is a planet\"\n",
    "Earth = \"Is a planet\"\n",
    "print(Pluto) \n",
    "Pluto = \"Is not a planet\""
   ]
  },
  {
   "cell_type": "markdown",
   "metadata": {},
   "source": [
    "Can you figure out how to make the final output: \"Is not a planet\" without adding any additional print statements?"
   ]
  },
  {
   "cell_type": "markdown",
   "metadata": {},
   "source": [
    "## 2. Randomized vs Observational Experiments"
   ]
  },
  {
   "cell_type": "markdown",
   "metadata": {},
   "source": [
    "Randomized experiments are great, but we don't always have the luxury of doing them! Sometimes we need to settle for observational experiments. What are some examples of reasons why we might have to do an observational experiment over a random one?"
   ]
  },
  {
   "cell_type": "markdown",
   "metadata": {},
   "source": [
    "*Write your answer here, replacing this text.*"
   ]
  },
  {
   "cell_type": "markdown",
   "metadata": {},
   "source": [
    "Okay, so maybe we've had to settle for an observational experiment. When it comes to interpreting our results, what limitations do observational experiments provide?"
   ]
  },
  {
   "cell_type": "markdown",
   "metadata": {},
   "source": [
    "*Write your answer here, replacing this text.*"
   ]
  },
  {
   "cell_type": "markdown",
   "metadata": {},
   "source": [
    "## 3. Does Ice Cream Kill?"
   ]
  },
  {
   "cell_type": "markdown",
   "metadata": {},
   "source": [
    "It has been noted that as ice cream sales increase, so do drowning rates and therefore, eating ice cream causes people to drown. Do you agree? Disagree? Why?"
   ]
  },
  {
   "cell_type": "markdown",
   "metadata": {},
   "source": [
    "*Write your answer here, replacing this text.*"
   ]
  },
  {
   "cell_type": "markdown",
   "metadata": {},
   "source": [
    "## 4. AAA!!!"
   ]
  },
  {
   "cell_type": "markdown",
   "metadata": {},
   "source": [
    "Below is a python snippet. Don't run it yet!!! Look at it. Think about it. What are your predictions about what will happen?"
   ]
  },
  {
   "cell_type": "markdown",
   "metadata": {},
   "source": [
    "1. It will error. 3 does not equal 3+3\n",
    "2. It will error. It is illegal to use a variable to reassign the same variable\n",
    "3. It will run and print 3\n",
    "4. It will run and print 6"
   ]
  },
  {
   "cell_type": "code",
   "execution_count": null,
   "metadata": {
    "collapsed": true
   },
   "outputs": [],
   "source": [
    "a = 3\n",
    "a = a+a\n",
    "a"
   ]
  },
  {
   "cell_type": "markdown",
   "metadata": {},
   "source": [
    "## 5. Bird's nest:"
   ]
  },
  {
   "cell_type": "markdown",
   "metadata": {},
   "source": [
    "Below we'll test your ability to read unnecessarily complicated code. Look at the code below. What do you think it will print out? \n",
    "\n",
    "Suggestion: Patience! Break it down to the smallest parts you understand and work your way up."
   ]
  },
  {
   "cell_type": "markdown",
   "metadata": {},
   "source": [
    "*Write your answer here, replacing this text.*",
    "\n",
    "1 = 1+0 and min(1,-1) is -1. Therefore max(min(1,-1),1+0)) = max(-1,1) = 1\n",
    "\n",
    "Thefore min(abs(-1),max(min(1,-1),1+0)) = min(abs(-1),1) = min(1,1) = 1"
   ]
  },
  {
   "cell_type": "code",
   "execution_count": null,
   "metadata": {
    "collapsed": true
   },
   "outputs": [],
   "source": [
    "min(abs(-1),max(min(1,-1),1+0))"
   ]
  }
 ],
 "metadata": {
  "kernelspec": {
   "display_name": "Python 3",
   "language": "python",
   "name": "python3"
  },
  "language_info": {
   "codemirror_mode": {
    "name": "ipython",
    "version": 3
   },
   "file_extension": ".py",
   "mimetype": "text/x-python",
   "name": "python",
   "nbconvert_exporter": "python",
   "pygments_lexer": "ipython3",
   "version": "3.4.4"
  }
 },
 "nbformat": 4,
 "nbformat_minor": 0
}

