{
 "cells": [
  {
   "cell_type": "code",
   "execution_count": 1,
   "metadata": {},
   "outputs": [],
   "source": [
    "from datascience import *\n",
    "import numpy as np\n",
    "\n",
    "import matplotlib.pyplot as plots\n",
    "plots.style.use('fivethirtyeight')\n",
    "%matplotlib inline"
   ]
  },
  {
   "cell_type": "markdown",
   "metadata": {},
   "source": [
    "## Percentiles"
   ]
  },
  {
   "cell_type": "code",
   "execution_count": 2,
   "metadata": {},
   "outputs": [
    {
     "data": {
      "text/plain": [
       "[1, 7, 3, 9, 5]"
      ]
     },
     "execution_count": 2,
     "metadata": {},
     "output_type": "execute_result"
    }
   ],
   "source": [
    "v = [1, 7, 3, 9, 5]\n",
    "v"
   ]
  },
  {
   "cell_type": "code",
   "execution_count": 3,
   "metadata": {},
   "outputs": [
    {
     "data": {
      "text/plain": [
       "1"
      ]
     },
     "execution_count": 3,
     "metadata": {},
     "output_type": "execute_result"
    }
   ],
   "source": [
    "percentile(20, v)"
   ]
  },
  {
   "cell_type": "code",
   "execution_count": 4,
   "metadata": {},
   "outputs": [
    {
     "data": {
      "text/html": [
       "<table border=\"1\" class=\"dataframe\">\n",
       "    <thead>\n",
       "        <tr>\n",
       "            <th>Percent</th> <th>Percentile</th>\n",
       "        </tr>\n",
       "    </thead>\n",
       "    <tbody>\n",
       "        <tr>\n",
       "            <td>1      </td> <td>1         </td>\n",
       "        </tr>\n",
       "    </tbody>\n",
       "        <tr>\n",
       "            <td>10     </td> <td>1         </td>\n",
       "        </tr>\n",
       "    </tbody>\n",
       "        <tr>\n",
       "            <td>20     </td> <td>1         </td>\n",
       "        </tr>\n",
       "    </tbody>\n",
       "        <tr>\n",
       "            <td>39     </td> <td>3         </td>\n",
       "        </tr>\n",
       "    </tbody>\n",
       "        <tr>\n",
       "            <td>40     </td> <td>3         </td>\n",
       "        </tr>\n",
       "    </tbody>\n",
       "        <tr>\n",
       "            <td>41     </td> <td>5         </td>\n",
       "        </tr>\n",
       "    </tbody>\n",
       "        <tr>\n",
       "            <td>50     </td> <td>5         </td>\n",
       "        </tr>\n",
       "    </tbody>\n",
       "</table>"
      ],
      "text/plain": [
       "Percent | Percentile\n",
       "1       | 1\n",
       "10      | 1\n",
       "20      | 1\n",
       "39      | 3\n",
       "40      | 3\n",
       "41      | 5\n",
       "50      | 5"
      ]
     },
     "execution_count": 4,
     "metadata": {},
     "output_type": "execute_result"
    }
   ],
   "source": [
    "Table(['Percent', 'Percentile']).with_rows([\n",
    "   [ 1, percentile( 1, v)], \n",
    "   [10, percentile(10, v)], \n",
    "   [20, percentile(20, v)], \n",
    "   [39, percentile(39, v)], \n",
    "   [40, percentile(40, v)], \n",
    "   [41, percentile(41, v)], \n",
    "   [50, percentile(50, v)], \n",
    "])"
   ]
  },
  {
   "cell_type": "markdown",
   "metadata": {},
   "source": [
    "## Estimation"
   ]
  },
  {
   "cell_type": "code",
   "execution_count": 5,
   "metadata": {},
   "outputs": [
    {
     "data": {
      "text/html": [
       "<table border=\"1\" class=\"dataframe\">\n",
       "    <thead>\n",
       "        <tr>\n",
       "            <th>Organization Group</th> <th>Job</th> <th>Total Compensation</th>\n",
       "        </tr>\n",
       "    </thead>\n",
       "    <tbody>\n",
       "        <tr>\n",
       "            <td>Public Works, Transportation & Commerce</td> <td>Water Qualitytech I/II     </td> <td>117,767           </td>\n",
       "        </tr>\n",
       "    </tbody>\n",
       "        <tr>\n",
       "            <td>Public Works, Transportation & Commerce</td> <td>Soft Floor Coverer         </td> <td>41,210            </td>\n",
       "        </tr>\n",
       "    </tbody>\n",
       "        <tr>\n",
       "            <td>Community Health                       </td> <td>Health Care Billing Clerk 2</td> <td>110,561           </td>\n",
       "        </tr>\n",
       "    </tbody>\n",
       "</table>\n",
       "<p>... (38214 rows omitted)</p"
      ],
      "text/plain": [
       "<IPython.core.display.HTML object>"
      ]
     },
     "metadata": {},
     "output_type": "display_data"
    }
   ],
   "source": [
    "sf = Table.read_table('http://inferentialthinking.com/notebooks/san_francisco_2015.csv').select(3, 11, 21)\n",
    "sf.set_format('Total Compensation', NumberFormatter(0))\n",
    "sf = sf.where('Total Compensation', are.above(10000))\n",
    "sf.show(3)"
   ]
  },
  {
   "cell_type": "code",
   "execution_count": 6,
   "metadata": {},
   "outputs": [
    {
     "data": {
      "text/html": [
       "<table border=\"1\" class=\"dataframe\">\n",
       "    <thead>\n",
       "        <tr>\n",
       "            <th>Organization Group</th> <th>Job</th> <th>Total Compensation</th>\n",
       "        </tr>\n",
       "    </thead>\n",
       "    <tbody>\n",
       "        <tr>\n",
       "            <td>Human Welfare & Neighborhood Development</td> <td>Public Service Trainee        </td> <td>10,002            </td>\n",
       "        </tr>\n",
       "    </tbody>\n",
       "        <tr>\n",
       "            <td>Community Health                        </td> <td>Special Nurse                 </td> <td>10,003            </td>\n",
       "        </tr>\n",
       "    </tbody>\n",
       "        <tr>\n",
       "            <td>Public Works, Transportation & Commerce </td> <td>Publ Svc Aide-Asst To Prof    </td> <td>10,004            </td>\n",
       "        </tr>\n",
       "    </tbody>\n",
       "        <tr>\n",
       "            <td>Human Welfare & Neighborhood Development</td> <td>Public Svc Aide-Public Works  </td> <td>10,006            </td>\n",
       "        </tr>\n",
       "    </tbody>\n",
       "        <tr>\n",
       "            <td>Public Protection                       </td> <td>EMT Paramedic                 </td> <td>10,009            </td>\n",
       "        </tr>\n",
       "    </tbody>\n",
       "        <tr>\n",
       "            <td>Public Works, Transportation & Commerce </td> <td>Stdntdsgntrain1, Arch/Eng/Plng</td> <td>10,010            </td>\n",
       "        </tr>\n",
       "    </tbody>\n",
       "        <tr>\n",
       "            <td>Human Welfare & Neighborhood Development</td> <td>Public Service Trainee        </td> <td>10,010            </td>\n",
       "        </tr>\n",
       "    </tbody>\n",
       "        <tr>\n",
       "            <td>General Administration & Finance        </td> <td>Communications Systems Tech   </td> <td>10,014            </td>\n",
       "        </tr>\n",
       "    </tbody>\n",
       "        <tr>\n",
       "            <td>Community Health                        </td> <td>Patient Care Assistant        </td> <td>10,015            </td>\n",
       "        </tr>\n",
       "    </tbody>\n",
       "        <tr>\n",
       "            <td>Public Works, Transportation & Commerce </td> <td>Publ Svc Aide-Asst To Prof    </td> <td>10,017            </td>\n",
       "        </tr>\n",
       "    </tbody>\n",
       "</table>\n",
       "<p>... (38207 rows omitted)</p"
      ],
      "text/plain": [
       "Organization Group                       | Job                            | Total Compensation\n",
       "Human Welfare & Neighborhood Development | Public Service Trainee         | 10,002\n",
       "Community Health                         | Special Nurse                  | 10,003\n",
       "Public Works, Transportation & Commerce  | Publ Svc Aide-Asst To Prof     | 10,004\n",
       "Human Welfare & Neighborhood Development | Public Svc Aide-Public Works   | 10,006\n",
       "Public Protection                        | EMT Paramedic                  | 10,009\n",
       "Public Works, Transportation & Commerce  | Stdntdsgntrain1, Arch/Eng/Plng | 10,010\n",
       "Human Welfare & Neighborhood Development | Public Service Trainee         | 10,010\n",
       "General Administration & Finance         | Communications Systems Tech    | 10,014\n",
       "Community Health                         | Patient Care Assistant         | 10,015\n",
       "Public Works, Transportation & Commerce  | Publ Svc Aide-Asst To Prof     | 10,017\n",
       "... (38207 rows omitted)"
      ]
     },
     "execution_count": 6,
     "metadata": {},
     "output_type": "execute_result"
    }
   ],
   "source": [
    "sf.sort('Total Compensation')"
   ]
  },
  {
   "cell_type": "code",
   "execution_count": 7,
   "metadata": {},
   "outputs": [
    {
     "data": {
      "text/html": [
       "<table border=\"1\" class=\"dataframe\">\n",
       "    <thead>\n",
       "        <tr>\n",
       "            <th>Organization Group</th> <th>Job</th> <th>Total Compensation</th>\n",
       "        </tr>\n",
       "    </thead>\n",
       "    <tbody>\n",
       "        <tr>\n",
       "            <td>General Administration & Finance       </td> <td>Chief Investment Officer   </td> <td>648,875           </td>\n",
       "        </tr>\n",
       "    </tbody>\n",
       "        <tr>\n",
       "            <td>General Administration & Finance       </td> <td>Asst Med Examiner          </td> <td>480,509           </td>\n",
       "        </tr>\n",
       "    </tbody>\n",
       "        <tr>\n",
       "            <td>General Administration & Finance       </td> <td>Asst Med Examiner          </td> <td>427,219           </td>\n",
       "        </tr>\n",
       "    </tbody>\n",
       "        <tr>\n",
       "            <td>Public Works, Transportation & Commerce</td> <td>Dept Head V                </td> <td>426,686           </td>\n",
       "        </tr>\n",
       "    </tbody>\n",
       "        <tr>\n",
       "            <td>Community Health                       </td> <td>Adm, SFGH Medical Center   </td> <td>422,800           </td>\n",
       "        </tr>\n",
       "    </tbody>\n",
       "        <tr>\n",
       "            <td>Public Protection                      </td> <td>Chief, Fire Department     </td> <td>418,844           </td>\n",
       "        </tr>\n",
       "    </tbody>\n",
       "        <tr>\n",
       "            <td>Public Works, Transportation & Commerce</td> <td>Executive Contract Employee</td> <td>417,848           </td>\n",
       "        </tr>\n",
       "    </tbody>\n",
       "        <tr>\n",
       "            <td>Community Health                       </td> <td>Senior Physician Specialist</td> <td>415,457           </td>\n",
       "        </tr>\n",
       "    </tbody>\n",
       "        <tr>\n",
       "            <td>Public Protection                      </td> <td>Chief Of Police            </td> <td>414,791           </td>\n",
       "        </tr>\n",
       "    </tbody>\n",
       "        <tr>\n",
       "            <td>Public Works, Transportation & Commerce</td> <td>Gen Mgr, Public Trnsp Dept </td> <td>405,050           </td>\n",
       "        </tr>\n",
       "    </tbody>\n",
       "</table>\n",
       "<p>... (38207 rows omitted)</p"
      ],
      "text/plain": [
       "Organization Group                      | Job                         | Total Compensation\n",
       "General Administration & Finance        | Chief Investment Officer    | 648,875\n",
       "General Administration & Finance        | Asst Med Examiner           | 480,509\n",
       "General Administration & Finance        | Asst Med Examiner           | 427,219\n",
       "Public Works, Transportation & Commerce | Dept Head V                 | 426,686\n",
       "Community Health                        | Adm, SFGH Medical Center    | 422,800\n",
       "Public Protection                       | Chief, Fire Department      | 418,844\n",
       "Public Works, Transportation & Commerce | Executive Contract Employee | 417,848\n",
       "Community Health                        | Senior Physician Specialist | 415,457\n",
       "Public Protection                       | Chief Of Police             | 414,791\n",
       "Public Works, Transportation & Commerce | Gen Mgr, Public Trnsp Dept  | 405,050\n",
       "... (38207 rows omitted)"
      ]
     },
     "execution_count": 7,
     "metadata": {},
     "output_type": "execute_result"
    }
   ],
   "source": [
    "sf.sort('Total Compensation', descending=True)"
   ]
  },
  {
   "cell_type": "code",
   "execution_count": 8,
   "metadata": {},
   "outputs": [
    {
     "data": {
      "image/png": "[encoded data removed]",
      "text/plain": [
       "<matplotlib.figure.Figure at 0x10d252e80>"
      ]
     },
     "metadata": {},
     "output_type": "display_data"
    }
   ],
   "source": [
    "comp_bins = np.arange(0, 700000, 25000)\n",
    "sf.hist('Total Compensation', bins=comp_bins, unit='dollar')"
   ]
  },
  {
   "cell_type": "code",
   "execution_count": 9,
   "metadata": {},
   "outputs": [
    {
     "data": {
      "text/html": [
       "<table border=\"1\" class=\"dataframe\">\n",
       "    <thead>\n",
       "        <tr>\n",
       "            <th>Organization Group</th> <th>Job</th> <th>Total Compensation</th>\n",
       "        </tr>\n",
       "    </thead>\n",
       "    <tbody>\n",
       "        <tr>\n",
       "            <td>Community Health                       </td> <td>Registered Nurse           </td> <td>169,419           </td>\n",
       "        </tr>\n",
       "    </tbody>\n",
       "        <tr>\n",
       "            <td>General Administration & Finance       </td> <td>Investigator, Tax Collector</td> <td>131,273           </td>\n",
       "        </tr>\n",
       "    </tbody>\n",
       "        <tr>\n",
       "            <td>Public Works, Transportation & Commerce</td> <td>Automotive Mechanic        </td> <td>152,983           </td>\n",
       "        </tr>\n",
       "    </tbody>\n",
       "</table>\n",
       "<p>... (197 rows omitted)</p"
      ],
      "text/plain": [
       "<IPython.core.display.HTML object>"
      ]
     },
     "metadata": {},
     "output_type": "display_data"
    }
   ],
   "source": [
    "sample_from_population = sf.sample(200, with_replacement=False)\n",
    "sample_from_population.show(3)"
   ]
  },
  {
   "cell_type": "code",
   "execution_count": 10,
   "metadata": {},
   "outputs": [
    {
     "data": {
      "text/plain": [
       "113721.995"
      ]
     },
     "execution_count": 10,
     "metadata": {},
     "output_type": "execute_result"
    }
   ],
   "source": [
    "np.median(sample_from_population.column('Total Compensation'))"
   ]
  },
  {
   "cell_type": "code",
   "execution_count": 11,
   "metadata": {},
   "outputs": [
    {
     "data": {
      "text/plain": [
       "113485.81"
      ]
     },
     "execution_count": 11,
     "metadata": {},
     "output_type": "execute_result"
    }
   ],
   "source": [
    "percentile(50, sample_from_population.column('Total Compensation'))"
   ]
  },
  {
   "cell_type": "markdown",
   "metadata": {},
   "source": [
    "## Sample variability"
   ]
  },
  {
   "cell_type": "code",
   "execution_count": 12,
   "metadata": {},
   "outputs": [
    {
     "data": {
      "image/png": "[encoded data removed]",
      "text/plain": [
       "<matplotlib.figure.Figure at 0x10edabac8>"
      ]
     },
     "metadata": {},
     "output_type": "display_data"
    }
   ],
   "source": [
    "medians = make_array()\n",
    "repetitions = np.arange(100)\n",
    "for i in repetitions:\n",
    "    sample = sf.sample(200, with_replacement=False)\n",
    "    median = np.median(sample.column('Total Compensation'))\n",
    "    medians = np.append(medians, median)\n",
    "\n",
    "Table().with_columns('trial', repetitions, 'median', medians).scatter('trial')"
   ]
  },
  {
   "cell_type": "code",
   "execution_count": 13,
   "metadata": {},
   "outputs": [
    {
     "data": {
      "image/png": "[encoded data removed]",
      "text/plain": [
       "<matplotlib.figure.Figure at 0x10e6013c8>"
      ]
     },
     "metadata": {},
     "output_type": "display_data"
    }
   ],
   "source": [
    "Table().with_columns('median', medians).hist()"
   ]
  },
  {
   "cell_type": "code",
   "execution_count": 14,
   "metadata": {},
   "outputs": [
    {
     "data": {
      "text/plain": [
       "97777.630000000005"
      ]
     },
     "execution_count": 14,
     "metadata": {},
     "output_type": "execute_result"
    }
   ],
   "source": [
    "percentile(2.5, medians)"
   ]
  },
  {
   "cell_type": "code",
   "execution_count": 15,
   "metadata": {},
   "outputs": [
    {
     "data": {
      "text/plain": [
       "115122.79000000001"
      ]
     },
     "execution_count": 15,
     "metadata": {},
     "output_type": "execute_result"
    }
   ],
   "source": [
    "percentile(97.5, medians)"
   ]
  },
  {
   "cell_type": "code",
   "execution_count": 16,
   "metadata": {},
   "outputs": [
    {
     "name": "stdout",
     "output_type": "stream",
     "text": [
      "95% of sample medians were between 97777.63 and 115122.79\n"
     ]
    }
   ],
   "source": [
    "print(\"95% of sample medians were between\", \n",
    "      percentile(2.5, medians),\n",
    "      \"and\",\n",
    "      percentile(97.5, medians))"
   ]
  },
  {
   "cell_type": "markdown",
   "metadata": {},
   "source": [
    "## Bootstrap"
   ]
  },
  {
   "cell_type": "code",
   "execution_count": 17,
   "metadata": {},
   "outputs": [
    {
     "data": {
      "text/html": [
       "<table border=\"1\" class=\"dataframe\">\n",
       "    <thead>\n",
       "        <tr>\n",
       "            <th>Organization Group</th> <th>Job</th> <th>Total Compensation</th>\n",
       "        </tr>\n",
       "    </thead>\n",
       "    <tbody>\n",
       "        <tr>\n",
       "            <td>Community Health                       </td> <td>Registered Nurse           </td> <td>169,419           </td>\n",
       "        </tr>\n",
       "    </tbody>\n",
       "        <tr>\n",
       "            <td>General Administration & Finance       </td> <td>Investigator, Tax Collector</td> <td>131,273           </td>\n",
       "        </tr>\n",
       "    </tbody>\n",
       "        <tr>\n",
       "            <td>Public Works, Transportation & Commerce</td> <td>Automotive Mechanic        </td> <td>152,983           </td>\n",
       "        </tr>\n",
       "    </tbody>\n",
       "        <tr>\n",
       "            <td>Community Health                       </td> <td>Registered Nurse           </td> <td>177,594           </td>\n",
       "        </tr>\n",
       "    </tbody>\n",
       "        <tr>\n",
       "            <td>Public Works, Transportation & Commerce</td> <td>Engineering Associate 2    </td> <td>136,377           </td>\n",
       "        </tr>\n",
       "    </tbody>\n",
       "        <tr>\n",
       "            <td>Public Works, Transportation & Commerce</td> <td>Transit Operator           </td> <td>142,048           </td>\n",
       "        </tr>\n",
       "    </tbody>\n",
       "        <tr>\n",
       "            <td>Public Protection                      </td> <td>Deputy Court Clerk II      </td> <td>113,958           </td>\n",
       "        </tr>\n",
       "    </tbody>\n",
       "        <tr>\n",
       "            <td>Community Health                       </td> <td>Special Nurse              </td> <td>66,375            </td>\n",
       "        </tr>\n",
       "    </tbody>\n",
       "        <tr>\n",
       "            <td>Public Works, Transportation & Commerce</td> <td>Custodian                  </td> <td>93,081            </td>\n",
       "        </tr>\n",
       "    </tbody>\n",
       "        <tr>\n",
       "            <td>General Administration & Finance       </td> <td>Senior Personnel Analyst   </td> <td>11,615            </td>\n",
       "        </tr>\n",
       "    </tbody>\n",
       "</table>\n",
       "<p>... (190 rows omitted)</p"
      ],
      "text/plain": [
       "Organization Group                      | Job                         | Total Compensation\n",
       "Community Health                        | Registered Nurse            | 169,419\n",
       "General Administration & Finance        | Investigator, Tax Collector | 131,273\n",
       "Public Works, Transportation & Commerce | Automotive Mechanic         | 152,983\n",
       "Community Health                        | Registered Nurse            | 177,594\n",
       "Public Works, Transportation & Commerce | Engineering Associate 2     | 136,377\n",
       "Public Works, Transportation & Commerce | Transit Operator            | 142,048\n",
       "Public Protection                       | Deputy Court Clerk II       | 113,958\n",
       "Community Health                        | Special Nurse               | 66,375\n",
       "Public Works, Transportation & Commerce | Custodian                   | 93,081\n",
       "General Administration & Finance        | Senior Personnel Analyst    | 11,615\n",
       "... (190 rows omitted)"
      ]
     },
     "execution_count": 17,
     "metadata": {},
     "output_type": "execute_result"
    }
   ],
   "source": [
    "sample_from_population # From now on, this is all we have."
   ]
  },
  {
   "cell_type": "code",
   "execution_count": 18,
   "metadata": {},
   "outputs": [
    {
     "data": {
      "text/plain": [
       "113721.995"
      ]
     },
     "execution_count": 18,
     "metadata": {},
     "output_type": "execute_result"
    }
   ],
   "source": [
    "np.median(sample_from_population.column('Total Compensation'))"
   ]
  },
  {
   "cell_type": "code",
   "execution_count": 19,
   "metadata": {},
   "outputs": [
    {
     "data": {
      "text/html": [
       "<table border=\"1\" class=\"dataframe\">\n",
       "    <thead>\n",
       "        <tr>\n",
       "            <th>Organization Group</th> <th>Job</th> <th>Total Compensation</th>\n",
       "        </tr>\n",
       "    </thead>\n",
       "    <tbody>\n",
       "        <tr>\n",
       "            <td>Public Works, Transportation & Commerce</td> <td>Welder                   </td> <td>132,568           </td>\n",
       "        </tr>\n",
       "    </tbody>\n",
       "        <tr>\n",
       "            <td>Public Works, Transportation & Commerce</td> <td>Custodian                </td> <td>94,403            </td>\n",
       "        </tr>\n",
       "    </tbody>\n",
       "        <tr>\n",
       "            <td>Culture & Recreation                   </td> <td>Custodian                </td> <td>92,484            </td>\n",
       "        </tr>\n",
       "    </tbody>\n",
       "        <tr>\n",
       "            <td>Public Works, Transportation & Commerce</td> <td>Transit Operator         </td> <td>15,798            </td>\n",
       "        </tr>\n",
       "    </tbody>\n",
       "        <tr>\n",
       "            <td>Community Health                       </td> <td>Medical Social Worker    </td> <td>130,991           </td>\n",
       "        </tr>\n",
       "    </tbody>\n",
       "        <tr>\n",
       "            <td>Public Protection                      </td> <td>EMT/Paramedic/Firefighter</td> <td>204,450           </td>\n",
       "        </tr>\n",
       "    </tbody>\n",
       "        <tr>\n",
       "            <td>General Administration & Finance       </td> <td>Senior Clerk             </td> <td>75,897            </td>\n",
       "        </tr>\n",
       "    </tbody>\n",
       "        <tr>\n",
       "            <td>General Administration & Finance       </td> <td>Senior Clerk             </td> <td>75,897            </td>\n",
       "        </tr>\n",
       "    </tbody>\n",
       "        <tr>\n",
       "            <td>Community Health                       </td> <td>Registered Nurse         </td> <td>169,419           </td>\n",
       "        </tr>\n",
       "    </tbody>\n",
       "        <tr>\n",
       "            <td>Public Works, Transportation & Commerce</td> <td>Transit Operator         </td> <td>15,798            </td>\n",
       "        </tr>\n",
       "    </tbody>\n",
       "</table>\n",
       "<p>... (190 rows omitted)</p"
      ],
      "text/plain": [
       "Organization Group                      | Job                       | Total Compensation\n",
       "Public Works, Transportation & Commerce | Welder                    | 132,568\n",
       "Public Works, Transportation & Commerce | Custodian                 | 94,403\n",
       "Culture & Recreation                    | Custodian                 | 92,484\n",
       "Public Works, Transportation & Commerce | Transit Operator          | 15,798\n",
       "Community Health                        | Medical Social Worker     | 130,991\n",
       "Public Protection                       | EMT/Paramedic/Firefighter | 204,450\n",
       "General Administration & Finance        | Senior Clerk              | 75,897\n",
       "General Administration & Finance        | Senior Clerk              | 75,897\n",
       "Community Health                        | Registered Nurse          | 169,419\n",
       "Public Works, Transportation & Commerce | Transit Operator          | 15,798\n",
       "... (190 rows omitted)"
      ]
     },
     "execution_count": 19,
     "metadata": {},
     "output_type": "execute_result"
    }
   ],
   "source": [
    "resample_1 = sample_from_population.sample()\n",
    "resample_1"
   ]
  },
  {
   "cell_type": "code",
   "execution_count": 20,
   "metadata": {},
   "outputs": [
    {
     "data": {
      "text/plain": [
       "115547.67999999999"
      ]
     },
     "execution_count": 20,
     "metadata": {},
     "output_type": "execute_result"
    }
   ],
   "source": [
    "np.median(resample_1.column('Total Compensation'))"
   ]
  },
  {
   "cell_type": "code",
   "execution_count": 21,
   "metadata": {},
   "outputs": [
    {
     "data": {
      "text/plain": [
       "111514.45000000001"
      ]
     },
     "execution_count": 21,
     "metadata": {},
     "output_type": "execute_result"
    }
   ],
   "source": [
    "resample_2 = sample_from_population.sample()\n",
    "np.median(resample_2.column('Total Compensation'))"
   ]
  },
  {
   "cell_type": "code",
   "execution_count": 22,
   "metadata": {},
   "outputs": [
    {
     "data": {
      "image/png": "[encoded data removed]",
      "text/plain": [
       "<matplotlib.figure.Figure at 0x1025454e0>"
      ]
     },
     "metadata": {},
     "output_type": "display_data"
    }
   ],
   "source": [
    "resampled_medians = make_array()\n",
    "for i in np.arange(1000):\n",
    "    resample = sample_from_population.sample()\n",
    "    median = np.median(resample.column('Total Compensation'))\n",
    "    resampled_medians = np.append(resampled_medians, median)\n",
    "    \n",
    "Table().with_column('Resampled median', resampled_medians).hist()"
   ]
  },
  {
   "cell_type": "markdown",
   "metadata": {},
   "source": [
    "## Confidence Intervals"
   ]
  },
  {
   "cell_type": "code",
   "execution_count": 23,
   "metadata": {},
   "outputs": [
    {
     "name": "stdout",
     "output_type": "stream",
     "text": [
      "95% of resampled medians were between 104982.825 and 124113.305\n"
     ]
    }
   ],
   "source": [
    "print(\"95% of resampled medians were between\", \n",
    "      percentile(2.5, resampled_medians),\n",
    "      \"and\",\n",
    "      percentile(97.5, resampled_medians))"
   ]
  },
  {
   "cell_type": "code",
   "execution_count": 24,
   "metadata": {},
   "outputs": [
    {
     "data": {
      "text/plain": [
       "<matplotlib.collections.PathCollection at 0x10dd7fcc0>"
      ]
     },
     "execution_count": 24,
     "metadata": {},
     "output_type": "execute_result"
    },
    {
     "data": {
      "image/png": "[encoded data removed]",
      "text/plain": [
       "<matplotlib.figure.Figure at 0x10d2f1898>"
      ]
     },
     "metadata": {},
     "output_type": "display_data"
    }
   ],
   "source": [
    "interval_95 = [percentile(2.5, resampled_medians),\n",
    "               percentile(97.5, resampled_medians)]\n",
    "\n",
    "Table().with_column('Resampled median', resampled_medians).hist(0)\n",
    "plots.plot(interval_95, [0, 0], color='gold', lw=5)\n",
    "pop_median = np.median(sf.column('Total Compensation'))\n",
    "plots.scatter(pop_median, 0, color='red', s=400)"
   ]
  },
  {
   "cell_type": "code",
   "execution_count": 25,
   "metadata": {},
   "outputs": [
    {
     "name": "stdout",
     "output_type": "stream",
     "text": [
      "Sample median: 106272.48\n"
     ]
    }
   ],
   "source": [
    "sample_from_population = sf.sample(200)\n",
    "median_of_sample = np.median(sample_from_population.column('Total Compensation'))\n",
    "print('Sample median:', median_of_sample)"
   ]
  },
  {
   "cell_type": "code",
   "execution_count": 26,
   "metadata": {},
   "outputs": [
    {
     "data": {
      "text/plain": [
       "<matplotlib.collections.PathCollection at 0x10de86cf8>"
      ]
     },
     "execution_count": 26,
     "metadata": {},
     "output_type": "execute_result"
    },
    {
     "data": {
      "image/png": "[encoded data removed]",
      "text/plain": [
       "<matplotlib.figure.Figure at 0x10dda5550>"
      ]
     },
     "metadata": {},
     "output_type": "display_data"
    }
   ],
   "source": [
    "resampled_medians = make_array()\n",
    "for i in np.arange(1000):\n",
    "    resample = sample_from_population.sample()\n",
    "    median = np.median(resample.column('Total Compensation'))\n",
    "    resampled_medians = np.append(resampled_medians, median)\n",
    "    \n",
    "interval_95 = [percentile(2.5, resampled_medians),\n",
    "               percentile(97.5, resampled_medians)]\n",
    "\n",
    "Table().with_column('Resampled median', resampled_medians).hist()\n",
    "plots.plot(interval_95, [0, 0], color='gold', lw=5)\n",
    "pop_median = np.median(sf.column('Total Compensation'))\n",
    "plots.scatter(pop_median, 0, color='red', s=400)"
   ]
  },
  {
   "cell_type": "code",
   "execution_count": 27,
   "metadata": {},
   "outputs": [
    {
     "name": "stdout",
     "output_type": "stream",
     "text": [
      "trial number 0 of 100\n",
      "trial number 1 of 100\n",
      "trial number 2 of 100\n",
      "trial number 3 of 100\n",
      "trial number 4 of 100\n",
      "trial number 5 of 100\n",
      "trial number 6 of 100\n",
      "trial number 7 of 100\n",
      "trial number 8 of 100\n",
      "trial number 9 of 100\n",
      "trial number 10 of 100\n",
      "trial number 11 of 100\n",
      "trial number 12 of 100\n",
      "trial number 13 of 100\n",
      "trial number 14 of 100\n",
      "trial number 15 of 100\n",
      "trial number 16 of 100\n",
      "trial number 17 of 100\n",
      "trial number 18 of 100\n",
      "trial number 19 of 100\n",
      "trial number 20 of 100\n",
      "trial number 21 of 100\n",
      "trial number 22 of 100\n",
      "trial number 23 of 100\n",
      "trial number 24 of 100\n",
      "trial number 25 of 100\n",
      "trial number 26 of 100\n",
      "trial number 27 of 100\n",
      "trial number 28 of 100\n",
      "trial number 29 of 100\n",
      "trial number 30 of 100\n",
      "trial number 31 of 100\n",
      "trial number 32 of 100\n",
      "trial number 33 of 100\n",
      "trial number 34 of 100\n",
      "trial number 35 of 100\n",
      "trial number 36 of 100\n",
      "trial number 37 of 100\n",
      "trial number 38 of 100\n",
      "trial number 39 of 100\n",
      "trial number 40 of 100\n",
      "trial number 41 of 100\n",
      "trial number 42 of 100\n",
      "trial number 43 of 100\n",
      "trial number 44 of 100\n",
      "trial number 45 of 100\n",
      "trial number 46 of 100\n",
      "trial number 47 of 100\n",
      "trial number 48 of 100\n",
      "trial number 49 of 100\n",
      "trial number 50 of 100\n",
      "trial number 51 of 100\n",
      "trial number 52 of 100\n",
      "trial number 53 of 100\n",
      "trial number 54 of 100\n",
      "trial number 55 of 100\n",
      "trial number 56 of 100\n",
      "trial number 57 of 100\n",
      "trial number 58 of 100\n",
      "trial number 59 of 100\n",
      "trial number 60 of 100\n",
      "trial number 61 of 100\n",
      "trial number 62 of 100\n",
      "trial number 63 of 100\n",
      "trial number 64 of 100\n",
      "trial number 65 of 100\n",
      "trial number 66 of 100\n",
      "trial number 67 of 100\n",
      "trial number 68 of 100\n",
      "trial number 69 of 100\n",
      "trial number 70 of 100\n",
      "trial number 71 of 100\n",
      "trial number 72 of 100\n",
      "trial number 73 of 100\n",
      "trial number 74 of 100\n",
      "trial number 75 of 100\n",
      "trial number 76 of 100\n",
      "trial number 77 of 100\n",
      "trial number 78 of 100\n",
      "trial number 79 of 100\n",
      "trial number 80 of 100\n",
      "trial number 81 of 100\n",
      "trial number 82 of 100\n",
      "trial number 83 of 100\n",
      "trial number 84 of 100\n",
      "trial number 85 of 100\n",
      "trial number 86 of 100\n",
      "trial number 87 of 100\n",
      "trial number 88 of 100\n",
      "trial number 89 of 100\n",
      "trial number 90 of 100\n",
      "trial number 91 of 100\n",
      "trial number 92 of 100\n",
      "trial number 93 of 100\n",
      "trial number 94 of 100\n",
      "trial number 95 of 100\n",
      "trial number 96 of 100\n",
      "trial number 97 of 100\n",
      "trial number 98 of 100\n",
      "trial number 99 of 100\n"
     ]
    }
   ],
   "source": [
    "intervals = Table(['Lower', 'Upper'])\n",
    "\n",
    "for j in np.arange(100):\n",
    "    sample_from_population = sf.sample(200)\n",
    "    resampled_medians = make_array()\n",
    "    for i in np.arange(1000):\n",
    "        resample = sample_from_population.sample()\n",
    "        median = np.median(resample.column('Total Compensation'))\n",
    "        resampled_medians = np.append(resampled_medians, median)\n",
    "\n",
    "    interval_95 = [percentile(2.5, resampled_medians),\n",
    "                   percentile(97.5, resampled_medians)]\n",
    "\n",
    "    intervals.append(interval_95)\n",
    "    print('trial number', j, 'of 100')"
   ]
  },
  {
   "cell_type": "code",
   "execution_count": 28,
   "metadata": {},
   "outputs": [
    {
     "data": {
      "text/plain": [
       "96"
      ]
     },
     "execution_count": 28,
     "metadata": {},
     "output_type": "execute_result"
    }
   ],
   "source": [
    "truth = np.median(sf.column('Total Compensation'))\n",
    "correct = intervals.where('Lower', are.not_above(truth)).where('Upper', are.not_below(truth))\n",
    "correct.num_rows"
   ]
  }
 ],
 "metadata": {
  "kernelspec": {
   "display_name": "Python 3",
   "language": "python",
   "name": "python3"
  },
  "language_info": {
   "codemirror_mode": {
    "name": "ipython",
    "version": 3
   },
   "file_extension": ".py",
   "mimetype": "text/x-python",
   "name": "python",
   "nbconvert_exporter": "python",
   "pygments_lexer": "ipython3",
   "version": "3.6.1"
  }
 },
 "nbformat": 4,
 "nbformat_minor": 2
}
