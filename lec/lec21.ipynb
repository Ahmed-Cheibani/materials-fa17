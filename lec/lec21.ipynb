{
 "cells": [
  {
   "cell_type": "code",
   "execution_count": null,
   "metadata": {},
   "outputs": [],
   "source": [
    "from datascience import *\n",
    "import numpy as np\n",
    "\n",
    "import matplotlib.pyplot as plots\n",
    "plots.style.use('fivethirtyeight')\n",
    "%matplotlib inline"
   ]
  },
  {
   "cell_type": "markdown",
   "metadata": {},
   "source": [
    "## Pea Flowers"
   ]
  },
  {
   "cell_type": "code",
   "execution_count": null,
   "metadata": {
    "collapsed": true
   },
   "outputs": [],
   "source": [
    "total_plants = 929\n",
    "observed_statistic = 0.0088805166846070982 # 705 were Purple\n",
    "\n",
    "def test_stat(sample):\n",
    "    proportion_purple = np.count_nonzero(sample == 'Purple') / len(sample)\n",
    "    return abs(proportion_purple - 0.75)\n",
    "\n",
    "def simulate_once():\n",
    "    possible_colors = make_array('Purple', 'Purple', 'Purple', 'White')\n",
    "    sample = np.random.choice(possible_colors, total_plants)\n",
    "    return test_stat(sample)\n",
    "\n",
    "cutoff = 0.028 # Don't worry how I chose this\n",
    "\n",
    "def simulate_and_conclude():\n",
    "    s = simulate_once()\n",
    "    if s >= cutoff:\n",
    "        print('Reject the null; test statistic was', s)\n",
    "    else:\n",
    "        print('Inconclusive - cannot reject the null; test statistic was', s)"
   ]
  },
  {
   "cell_type": "code",
   "execution_count": null,
   "metadata": {},
   "outputs": [],
   "source": [
    "simulate_and_conclude()"
   ]
  },
  {
   "cell_type": "markdown",
   "metadata": {},
   "source": [
    "## Error probabilities"
   ]
  },
  {
   "cell_type": "code",
   "execution_count": null,
   "metadata": {},
   "outputs": [],
   "source": [
    "# Simulating the test statistic under the null hypothesis\n",
    "repetitions = 40000\n",
    "sampled_stats = make_array()\n",
    "\n",
    "for i in np.arange(repetitions):\n",
    "    s = simulate_once()\n",
    "    sampled_stats = np.append(sampled_stats, s)"
   ]
  },
  {
   "cell_type": "code",
   "execution_count": null,
   "metadata": {},
   "outputs": [],
   "source": [
    "null_dist = Table().with_column('Distribution of the test statistic under the null hypothesis', sampled_stats)\n",
    "null_dist.hist()\n",
    "_ = plots.plot([cutoff, cutoff], [0, 60])"
   ]
  },
  {
   "cell_type": "code",
   "execution_count": null,
   "metadata": {},
   "outputs": [],
   "source": [
    "null_dist.where(0, are.above_or_equal_to(cutoff)).num_rows / repetitions"
   ]
  },
  {
   "cell_type": "markdown",
   "metadata": {},
   "source": [
    "## A different cutoff"
   ]
  },
  {
   "cell_type": "code",
   "execution_count": null,
   "metadata": {},
   "outputs": [],
   "source": [
    "other_cutoff = 0.037\n",
    "null_dist.hist()\n",
    "_ = plots.plot([other_cutoff, other_cutoff], [0, 60])"
   ]
  },
  {
   "cell_type": "code",
   "execution_count": null,
   "metadata": {},
   "outputs": [],
   "source": [
    "null_dist.where(0, are.above_or_equal_to(other_cutoff)).num_rows / repetitions"
   ]
  },
  {
   "cell_type": "markdown",
   "metadata": {},
   "source": [
    "## Yet another cutoff"
   ]
  },
  {
   "cell_type": "code",
   "execution_count": null,
   "metadata": {},
   "outputs": [],
   "source": [
    "third_cutoff = 0.0088805166846070982\n",
    "null_dist.hist()\n",
    "_ = plots.plot([third_cutoff, third_cutoff], [0, 60])"
   ]
  },
  {
   "cell_type": "code",
   "execution_count": null,
   "metadata": {},
   "outputs": [],
   "source": [
    "null_dist.where(0, are.above_or_equal_to(third_cutoff)).num_rows / repetitions"
   ]
  },
  {
   "cell_type": "markdown",
   "metadata": {},
   "source": [
    "## P-value"
   ]
  },
  {
   "cell_type": "code",
   "execution_count": null,
   "metadata": {},
   "outputs": [],
   "source": [
    "# The P-value (an approximation based on the simulation)\n",
    "null_dist.where(0, are.above_or_equal_to(observed_statistic)).num_rows / repetitions"
   ]
  },
  {
   "cell_type": "markdown",
   "metadata": {},
   "source": [
    "## Deflategate"
   ]
  },
  {
   "cell_type": "code",
   "execution_count": null,
   "metadata": {},
   "outputs": [],
   "source": [
    "football = Table.read_table('http://inferentialthinking.com/notebooks/football.csv')\n",
    "football = football.drop('Team')\n",
    "football.show()"
   ]
  },
  {
   "cell_type": "code",
   "execution_count": null,
   "metadata": {},
   "outputs": [],
   "source": [
    "initials = np.append(np.ones(11) * 12.5, np.ones(4) * 13)\n",
    "averages = (football.column('Blakeman')+football.column('Prioleau'))/2\n",
    "football = football.with_column(\n",
    "    'Team', np.char.strip(football.column('Ball'), [' 1234567890']),\n",
    "    'Average at Half', averages,\n",
    "    'Estimate at Start', initials,\n",
    "    'Drop', initials - averages\n",
    ")\n",
    "football.show()"
   ]
  },
  {
   "cell_type": "code",
   "execution_count": null,
   "metadata": {},
   "outputs": [],
   "source": [
    "def difference_in_average_drop(t):\n",
    "    averages = t.select('Team', 'Drop').group('Team', np.average).column(1)\n",
    "    return averages.item(1) - averages.item(0)\n",
    "\n",
    "observed = difference_in_average_drop(football)\n",
    "observed"
   ]
  },
  {
   "cell_type": "code",
   "execution_count": null,
   "metadata": {},
   "outputs": [],
   "source": [
    "shuffled = football.select('Drop').sample(15, with_replacement=False)\n",
    "football.select('Team').with_column('Drop', shuffled.column(0))"
   ]
  },
  {
   "cell_type": "code",
   "execution_count": null,
   "metadata": {
    "collapsed": true
   },
   "outputs": [],
   "source": [
    "sampled_stats = make_array()\n",
    "\n",
    "for i in np.arange(10000):\n",
    "    shuffled = football.select('Drop').sample(15, with_replacement=False)\n",
    "    sample = football.select('Team').with_column('Drop', shuffled.column(0))    \n",
    "    sampled_stats = np.append(sampled_stats, difference_in_average_drop(sample))"
   ]
  },
  {
   "cell_type": "code",
   "execution_count": null,
   "metadata": {},
   "outputs": [],
   "source": [
    "Table().with_column('Null distribution', sampled_stats).hist()\n",
    "_ = plots.plot([observed, observed], [0, 1.4])"
   ]
  },
  {
   "cell_type": "code",
   "execution_count": null,
   "metadata": {},
   "outputs": [],
   "source": [
    "np.count_nonzero(sampled_stats >= observed)/len(sampled_stats)"
   ]
  }
 ],
 "metadata": {
  "kernelspec": {
   "display_name": "Python 3",
   "language": "python",
   "name": "python3"
  },
  "language_info": {
   "codemirror_mode": {
    "name": "ipython",
    "version": 3
   },
   "file_extension": ".py",
   "mimetype": "text/x-python",
   "name": "python",
   "nbconvert_exporter": "python",
   "pygments_lexer": "ipython3",
   "version": "3.6.1"
  }
 },
 "nbformat": 4,
 "nbformat_minor": 2
}
