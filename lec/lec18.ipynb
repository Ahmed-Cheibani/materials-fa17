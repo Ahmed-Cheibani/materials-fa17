{
 "cells": [
  {
   "cell_type": "code",
   "execution_count": null,
   "metadata": {
    "collapsed": true,
    "deletable": true,
    "editable": true
   },
   "outputs": [],
   "source": [
    "from datascience import *\n",
    "import numpy as np\n",
    "\n",
    "import matplotlib.pyplot as plots\n",
    "plots.style.use('fivethirtyeight')\n",
    "%matplotlib inline"
   ]
  },
  {
   "cell_type": "markdown",
   "metadata": {
    "deletable": true,
    "editable": true
   },
   "source": [
    "## Probability"
   ]
  },
  {
   "cell_type": "code",
   "execution_count": null,
   "metadata": {
    "collapsed": false,
    "deletable": true,
    "editable": true
   },
   "outputs": [],
   "source": [
    "from itertools import product\n",
    "\n",
    "head = [False, True]\n",
    "flips = list(product(head, repeat=6))\n",
    "outcomes = Table(['1st', '2nd', '3rd', '4th', '5th', '6th']).with_rows(flips)\n",
    "outcomes"
   ]
  },
  {
   "cell_type": "code",
   "execution_count": null,
   "metadata": {
    "collapsed": false
   },
   "outputs": [],
   "source": [
    "outcomes.with_column('Heads', outcomes.apply(sum)).group('Heads').bar('Heads')"
   ]
  },
  {
   "cell_type": "code",
   "execution_count": null,
   "metadata": {
    "collapsed": false
   },
   "outputs": [],
   "source": [
    "(79/80) ** 79"
   ]
  },
  {
   "cell_type": "code",
   "execution_count": null,
   "metadata": {
    "collapsed": false
   },
   "outputs": [],
   "source": [
    "1/80"
   ]
  },
  {
   "cell_type": "code",
   "execution_count": null,
   "metadata": {
    "collapsed": false
   },
   "outputs": [],
   "source": [
    "1 - ((1/3) * 1 + (2/3) * (1/2)) ** 10"
   ]
  },
  {
   "cell_type": "markdown",
   "metadata": {},
   "source": [
    "## Estimation"
   ]
  },
  {
   "cell_type": "code",
   "execution_count": null,
   "metadata": {
    "collapsed": true
   },
   "outputs": [],
   "source": [
    "start = 8\n",
    "end = 1868"
   ]
  },
  {
   "cell_type": "code",
   "execution_count": null,
   "metadata": {
    "collapsed": false
   },
   "outputs": [],
   "source": [
    "observed = np.random.choice(np.arange(start, end), 50)"
   ]
  },
  {
   "cell_type": "code",
   "execution_count": null,
   "metadata": {
    "collapsed": false
   },
   "outputs": [],
   "source": [
    "max(observed) - min(observed) + 1"
   ]
  },
  {
   "cell_type": "code",
   "execution_count": null,
   "metadata": {
    "collapsed": false
   },
   "outputs": [],
   "source": [
    "def guess(observed):\n",
    "    return max(observed) - min(observed) + 1\n",
    "\n",
    "guesses = make_array()\n",
    "for i in np.arange(5000):\n",
    "    obs = np.random.choice(np.arange(start, end), 50)\n",
    "    guesses = np.append(guesses, guess(obs))\n",
    "Table().with_column('Estimate', guesses).hist()\n",
    "plots.plot([end-start, end-start], [0, .01])\n",
    "\n",
    "print('Bias:', np.average(guesses - (end-start)))\n",
    "print('Avg. absolute error:', np.average(np.abs(guesses - (end-start))))"
   ]
  },
  {
   "cell_type": "code",
   "execution_count": null,
   "metadata": {
    "collapsed": false
   },
   "outputs": [],
   "source": [
    "def guess(observed):\n",
    "    return (max(observed) - min(observed)) * 52/50\n",
    "\n",
    "guesses = make_array()\n",
    "for i in np.arange(5000):\n",
    "    obs = np.random.choice(np.arange(start, end), 50)\n",
    "    guesses = np.append(guesses, guess(obs))\n",
    "Table().with_column('Estimate', guesses).hist()\n",
    "plots.plot([end-start, end-start], [0, .01])\n",
    "\n",
    "print('Bias:', np.average(guesses - (end-start)))\n",
    "print('Avg. absolute error:', np.average(np.abs(guesses - (end-start))))"
   ]
  },
  {
   "cell_type": "code",
   "execution_count": null,
   "metadata": {
    "collapsed": false,
    "scrolled": true
   },
   "outputs": [],
   "source": [
    "coins = [1, 2, 3]\n",
    "picked = np.random.choice(coins, 10)\n",
    "print(picked)\n",
    "print(picked != 3)\n",
    "fair = sum(picked != 3)\n",
    "print(fair)\n",
    "flips = np.random.choice([False, True], fair)\n",
    "print(flips)\n",
    "tails = sum(flips)\n",
    "print(tails)"
   ]
  },
  {
   "cell_type": "code",
   "execution_count": null,
   "metadata": {
    "collapsed": false
   },
   "outputs": [],
   "source": [
    "at_least_one_tail = 0\n",
    "trials = 10000\n",
    "coins = [1, 2, 3]\n",
    "\n",
    "for i in np.arange(trials):\n",
    "    picked = np.random.choice(coins, 10)\n",
    "    fair = sum(picked != 3)\n",
    "    flips = np.random.choice([False, True], fair)\n",
    "    tails = sum(flips)\n",
    "    if tails > 0:\n",
    "        at_least_one_tail = at_least_one_tail + 1\n",
    "\n",
    "at_least_one_tail / trials\n",
    "    "
   ]
  },
  {
   "cell_type": "code",
   "execution_count": null,
   "metadata": {
    "collapsed": true
   },
   "outputs": [],
   "source": []
  }
 ],
 "metadata": {
  "kernelspec": {
   "display_name": "Python 3",
   "language": "python",
   "name": "python3"
  },
  "language_info": {
   "codemirror_mode": {
    "name": "ipython",
    "version": 3
   },
   "file_extension": ".py",
   "mimetype": "text/x-python",
   "name": "python",
   "nbconvert_exporter": "python",
   "pygments_lexer": "ipython3",
   "version": "3.5.2"
  }
 },
 "nbformat": 4,
 "nbformat_minor": 2
}
