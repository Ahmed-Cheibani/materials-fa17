{
 "cells": [
  {
   "cell_type": "code",
   "execution_count": 1,
   "metadata": {},
   "outputs": [],
   "source": [
    "from datascience import *\n",
    "import numpy as np\n",
    "\n",
    "import matplotlib.pyplot as plots\n",
    "plots.style.use('fivethirtyeight')\n",
    "%matplotlib inline"
   ]
  },
  {
   "cell_type": "markdown",
   "metadata": {},
   "source": [
    "## The Toast Myth"
   ]
  },
  {
   "cell_type": "markdown",
   "metadata": {},
   "source": [
    "We saw the Mythbusters crew do an experiment with 48 pieces of toast, where 29 landed butter side up and 19 butter side down.  Let's see if we can figure out how likely this outcome would be, if toast was equally likely to land on either side.  In particular, we'll play a \"what-if\" game: what if toast was equally likely to land on both sides?  Let's simulate what would happen, under that assumption."
   ]
  },
  {
   "cell_type": "code",
   "execution_count": 2,
   "metadata": {
    "collapsed": true
   },
   "outputs": [],
   "source": [
    "sides = make_array('Butter Side Up', 'Butter Side Down')"
   ]
  },
  {
   "cell_type": "code",
   "execution_count": 3,
   "metadata": {
    "collapsed": true
   },
   "outputs": [],
   "source": [
    "possible_outcomes = Table().with_column('Outcome', sides)"
   ]
  },
  {
   "cell_type": "code",
   "execution_count": 4,
   "metadata": {},
   "outputs": [
    {
     "data": {
      "text/html": [
       "<table border=\"1\" class=\"dataframe\">\n",
       "    <thead>\n",
       "        <tr>\n",
       "            <th>Outcome</th>\n",
       "        </tr>\n",
       "    </thead>\n",
       "    <tbody>\n",
       "        <tr>\n",
       "            <td>Butter Side Up  </td>\n",
       "        </tr>\n",
       "    </tbody>\n",
       "        <tr>\n",
       "            <td>Butter Side Down</td>\n",
       "        </tr>\n",
       "    </tbody>\n",
       "</table>"
      ],
      "text/plain": [
       "Outcome\n",
       "Butter Side Up\n",
       "Butter Side Down"
      ]
     },
     "execution_count": 4,
     "metadata": {},
     "output_type": "execute_result"
    }
   ],
   "source": [
    "possible_outcomes"
   ]
  },
  {
   "cell_type": "code",
   "execution_count": 5,
   "metadata": {
    "collapsed": true
   },
   "outputs": [],
   "source": [
    "simulated_experiment = possible_outcomes.sample(48)"
   ]
  },
  {
   "cell_type": "code",
   "execution_count": 6,
   "metadata": {},
   "outputs": [
    {
     "data": {
      "text/html": [
       "<table border=\"1\" class=\"dataframe\">\n",
       "    <thead>\n",
       "        <tr>\n",
       "            <th>Outcome</th>\n",
       "        </tr>\n",
       "    </thead>\n",
       "    <tbody>\n",
       "        <tr>\n",
       "            <td>Butter Side Down</td>\n",
       "        </tr>\n",
       "    </tbody>\n",
       "        <tr>\n",
       "            <td>Butter Side Down</td>\n",
       "        </tr>\n",
       "    </tbody>\n",
       "        <tr>\n",
       "            <td>Butter Side Down</td>\n",
       "        </tr>\n",
       "    </tbody>\n",
       "        <tr>\n",
       "            <td>Butter Side Up  </td>\n",
       "        </tr>\n",
       "    </tbody>\n",
       "        <tr>\n",
       "            <td>Butter Side Up  </td>\n",
       "        </tr>\n",
       "    </tbody>\n",
       "        <tr>\n",
       "            <td>Butter Side Up  </td>\n",
       "        </tr>\n",
       "    </tbody>\n",
       "        <tr>\n",
       "            <td>Butter Side Down</td>\n",
       "        </tr>\n",
       "    </tbody>\n",
       "        <tr>\n",
       "            <td>Butter Side Down</td>\n",
       "        </tr>\n",
       "    </tbody>\n",
       "        <tr>\n",
       "            <td>Butter Side Up  </td>\n",
       "        </tr>\n",
       "    </tbody>\n",
       "        <tr>\n",
       "            <td>Butter Side Down</td>\n",
       "        </tr>\n",
       "    </tbody>\n",
       "</table>\n",
       "<p>... (38 rows omitted)</p"
      ],
      "text/plain": [
       "Outcome\n",
       "Butter Side Down\n",
       "Butter Side Down\n",
       "Butter Side Down\n",
       "Butter Side Up\n",
       "Butter Side Up\n",
       "Butter Side Up\n",
       "Butter Side Down\n",
       "Butter Side Down\n",
       "Butter Side Up\n",
       "Butter Side Down\n",
       "... (38 rows omitted)"
      ]
     },
     "execution_count": 6,
     "metadata": {},
     "output_type": "execute_result"
    }
   ],
   "source": [
    "simulated_experiment"
   ]
  },
  {
   "cell_type": "code",
   "execution_count": 7,
   "metadata": {},
   "outputs": [
    {
     "data": {
      "text/html": [
       "<table border=\"1\" class=\"dataframe\">\n",
       "    <thead>\n",
       "        <tr>\n",
       "            <th>Outcome</th> <th>count</th>\n",
       "        </tr>\n",
       "    </thead>\n",
       "    <tbody>\n",
       "        <tr>\n",
       "            <td>Butter Side Down</td> <td>22   </td>\n",
       "        </tr>\n",
       "    </tbody>\n",
       "        <tr>\n",
       "            <td>Butter Side Up  </td> <td>26   </td>\n",
       "        </tr>\n",
       "    </tbody>\n",
       "</table>"
      ],
      "text/plain": [
       "Outcome          | count\n",
       "Butter Side Down | 22\n",
       "Butter Side Up   | 26"
      ]
     },
     "execution_count": 7,
     "metadata": {},
     "output_type": "execute_result"
    }
   ],
   "source": [
    "simulated_experiment.group('Outcome')"
   ]
  },
  {
   "cell_type": "code",
   "execution_count": 8,
   "metadata": {
    "collapsed": true
   },
   "outputs": [],
   "source": [
    "def count_up(sample):\n",
    "    counts = sample.group('Outcome').where('Outcome', 'Butter Side Up')\n",
    "    number_up = counts.column('count').item(0)\n",
    "    return number_up"
   ]
  },
  {
   "cell_type": "code",
   "execution_count": 9,
   "metadata": {},
   "outputs": [
    {
     "data": {
      "text/plain": [
       "26"
      ]
     },
     "execution_count": 9,
     "metadata": {},
     "output_type": "execute_result"
    }
   ],
   "source": [
    "count_up(simulated_experiment)"
   ]
  },
  {
   "cell_type": "markdown",
   "metadata": {},
   "source": [
    "## Simulation"
   ]
  },
  {
   "cell_type": "markdown",
   "metadata": {},
   "source": [
    "Above we saw how to simulate an episode of the TV show (i.e., one experiment), under the \"what-if\" assumption that toast is equally likely to land on both sides.  Now we're going to repeat the simulation 10000 times, and keep track of the statistic (the number of times the toast landed butter-side-up) we get from each simulated TV episode."
   ]
  },
  {
   "cell_type": "code",
   "execution_count": 10,
   "metadata": {
    "collapsed": true
   },
   "outputs": [],
   "source": [
    "counts = make_array()\n",
    "for i in np.arange(10000): # 10000 repetitions\n",
    "    one_simulated_episode = possible_outcomes.sample(48)\n",
    "    number_up = count_up(one_simulated_episode)\n",
    "    counts = np.append(counts, number_up)\n",
    "results = Table().with_column('Number that landed butter-side-up', counts)"
   ]
  },
  {
   "cell_type": "code",
   "execution_count": 11,
   "metadata": {},
   "outputs": [
    {
     "data": {
      "text/html": [
       "<table border=\"1\" class=\"dataframe\">\n",
       "    <thead>\n",
       "        <tr>\n",
       "            <th>Number that landed butter-side-up</th>\n",
       "        </tr>\n",
       "    </thead>\n",
       "    <tbody>\n",
       "        <tr>\n",
       "            <td>24                               </td>\n",
       "        </tr>\n",
       "    </tbody>\n",
       "        <tr>\n",
       "            <td>25                               </td>\n",
       "        </tr>\n",
       "    </tbody>\n",
       "        <tr>\n",
       "            <td>22                               </td>\n",
       "        </tr>\n",
       "    </tbody>\n",
       "        <tr>\n",
       "            <td>28                               </td>\n",
       "        </tr>\n",
       "    </tbody>\n",
       "        <tr>\n",
       "            <td>26                               </td>\n",
       "        </tr>\n",
       "    </tbody>\n",
       "        <tr>\n",
       "            <td>25                               </td>\n",
       "        </tr>\n",
       "    </tbody>\n",
       "        <tr>\n",
       "            <td>24                               </td>\n",
       "        </tr>\n",
       "    </tbody>\n",
       "        <tr>\n",
       "            <td>24                               </td>\n",
       "        </tr>\n",
       "    </tbody>\n",
       "        <tr>\n",
       "            <td>26                               </td>\n",
       "        </tr>\n",
       "    </tbody>\n",
       "        <tr>\n",
       "            <td>25                               </td>\n",
       "        </tr>\n",
       "    </tbody>\n",
       "</table>\n",
       "<p>... (9990 rows omitted)</p"
      ],
      "text/plain": [
       "Number that landed butter-side-up\n",
       "24\n",
       "25\n",
       "22\n",
       "28\n",
       "26\n",
       "25\n",
       "24\n",
       "24\n",
       "26\n",
       "25\n",
       "... (9990 rows omitted)"
      ]
     },
     "execution_count": 11,
     "metadata": {},
     "output_type": "execute_result"
    }
   ],
   "source": [
    "results"
   ]
  },
  {
   "cell_type": "code",
   "execution_count": 12,
   "metadata": {},
   "outputs": [
    {
     "data": {
      "image/png": "[encoded data removed]",
      "text/plain": [
       "<matplotlib.figure.Figure at 0x11c5d8e48>"
      ]
     },
     "metadata": {},
     "output_type": "display_data"
    }
   ],
   "source": [
    "results.hist(bins=np.arange(12,36,1))"
   ]
  },
  {
   "cell_type": "code",
   "execution_count": 13,
   "metadata": {},
   "outputs": [
    {
     "data": {
      "text/plain": [
       "0.0927"
      ]
     },
     "execution_count": 13,
     "metadata": {},
     "output_type": "execute_result"
    }
   ],
   "source": [
    "results.where('Number that landed butter-side-up',\n",
    "              are.above_or_equal_to(29)).num_rows / 10000"
   ]
  },
  {
   "cell_type": "markdown",
   "metadata": {},
   "source": [
    "## Alameda County Juries"
   ]
  },
  {
   "cell_type": "code",
   "execution_count": 14,
   "metadata": {},
   "outputs": [
    {
     "data": {
      "text/html": [
       "<table border=\"1\" class=\"dataframe\">\n",
       "    <thead>\n",
       "        <tr>\n",
       "            <th>Ethnicity</th> <th>Eligible</th> <th>Panels</th>\n",
       "        </tr>\n",
       "    </thead>\n",
       "    <tbody>\n",
       "        <tr>\n",
       "            <td>Asian    </td> <td>15%     </td> <td>26%   </td>\n",
       "        </tr>\n",
       "    </tbody>\n",
       "        <tr>\n",
       "            <td>Black    </td> <td>18%     </td> <td>8%    </td>\n",
       "        </tr>\n",
       "    </tbody>\n",
       "        <tr>\n",
       "            <td>Latino   </td> <td>12%     </td> <td>8%    </td>\n",
       "        </tr>\n",
       "    </tbody>\n",
       "        <tr>\n",
       "            <td>White    </td> <td>54%     </td> <td>54%   </td>\n",
       "        </tr>\n",
       "    </tbody>\n",
       "        <tr>\n",
       "            <td>Other    </td> <td>1%      </td> <td>4%    </td>\n",
       "        </tr>\n",
       "    </tbody>\n",
       "</table>"
      ],
      "text/plain": [
       "Ethnicity | Eligible | Panels\n",
       "Asian     | 15%      | 26%\n",
       "Black     | 18%      | 8%\n",
       "Latino    | 12%      | 8%\n",
       "White     | 54%      | 54%\n",
       "Other     | 1%       | 4%"
      ]
     },
     "execution_count": 14,
     "metadata": {},
     "output_type": "execute_result"
    }
   ],
   "source": [
    "# Data from an ACLU 2010 report\n",
    "# Racial and Ethnic Disparities in Alameda County Jury Pools\n",
    "# https://www.aclunc.org/sites/default/files/racial_and_ethnic_disparities_in_alameda_county_jury_pools.pdf\n",
    "\n",
    "alameda = Table().with_columns(\n",
    "    'Ethnicity', make_array('Asian', 'Black', 'Latino', 'White', 'Other'),\n",
    "    'Eligible', make_array(0.15, 0.18, 0.12, 0.54, 0.01),\n",
    "    'Panels', make_array(0.26, 0.08, 0.08, 0.54, 0.04)\n",
    ")\n",
    "\n",
    "alameda.set_format([1, 2], PercentFormatter(0))"
   ]
  },
  {
   "cell_type": "code",
   "execution_count": 15,
   "metadata": {},
   "outputs": [
    {
     "data": {
      "image/png": "[encoded data removed]",
      "text/plain": [
       "<matplotlib.figure.Figure at 0x11ec11780>"
      ]
     },
     "metadata": {},
     "output_type": "display_data"
    }
   ],
   "source": [
    "alameda.barh(0)"
   ]
  },
  {
   "cell_type": "markdown",
   "metadata": {},
   "source": [
    "## Total Variation Distance"
   ]
  },
  {
   "cell_type": "code",
   "execution_count": 16,
   "metadata": {},
   "outputs": [
    {
     "data": {
      "text/html": [
       "<table border=\"1\" class=\"dataframe\">\n",
       "    <thead>\n",
       "        <tr>\n",
       "            <th>Ethnicity</th> <th>Eligible</th> <th>Panels</th> <th>Difference</th>\n",
       "        </tr>\n",
       "    </thead>\n",
       "    <tbody>\n",
       "        <tr>\n",
       "            <td>Asian    </td> <td>15%     </td> <td>26%   </td> <td>-0.11     </td>\n",
       "        </tr>\n",
       "    </tbody>\n",
       "        <tr>\n",
       "            <td>Black    </td> <td>18%     </td> <td>8%    </td> <td>0.1       </td>\n",
       "        </tr>\n",
       "    </tbody>\n",
       "        <tr>\n",
       "            <td>Latino   </td> <td>12%     </td> <td>8%    </td> <td>0.04      </td>\n",
       "        </tr>\n",
       "    </tbody>\n",
       "        <tr>\n",
       "            <td>White    </td> <td>54%     </td> <td>54%   </td> <td>0         </td>\n",
       "        </tr>\n",
       "    </tbody>\n",
       "        <tr>\n",
       "            <td>Other    </td> <td>1%      </td> <td>4%    </td> <td>-0.03     </td>\n",
       "        </tr>\n",
       "    </tbody>\n",
       "</table>"
      ],
      "text/plain": [
       "Ethnicity | Eligible | Panels | Difference\n",
       "Asian     | 15%      | 26%    | -0.11\n",
       "Black     | 18%      | 8%     | 0.1\n",
       "Latino    | 12%      | 8%     | 0.04\n",
       "White     | 54%      | 54%    | 0\n",
       "Other     | 1%       | 4%     | -0.03"
      ]
     },
     "execution_count": 16,
     "metadata": {},
     "output_type": "execute_result"
    }
   ],
   "source": [
    "diff = alameda.with_column('Difference',\n",
    "                    alameda.column('Eligible') - alameda.column('Panels'))\n",
    "diff"
   ]
  },
  {
   "cell_type": "code",
   "execution_count": 17,
   "metadata": {},
   "outputs": [
    {
     "data": {
      "text/html": [
       "<table border=\"1\" class=\"dataframe\">\n",
       "    <thead>\n",
       "        <tr>\n",
       "            <th>Ethnicity</th> <th>Eligible</th> <th>Panels</th> <th>Difference</th> <th>Abs. Difference</th>\n",
       "        </tr>\n",
       "    </thead>\n",
       "    <tbody>\n",
       "        <tr>\n",
       "            <td>Asian    </td> <td>15%     </td> <td>26%   </td> <td>-0.11     </td> <td>0.11           </td>\n",
       "        </tr>\n",
       "    </tbody>\n",
       "        <tr>\n",
       "            <td>Black    </td> <td>18%     </td> <td>8%    </td> <td>0.1       </td> <td>0.1            </td>\n",
       "        </tr>\n",
       "    </tbody>\n",
       "        <tr>\n",
       "            <td>Latino   </td> <td>12%     </td> <td>8%    </td> <td>0.04      </td> <td>0.04           </td>\n",
       "        </tr>\n",
       "    </tbody>\n",
       "        <tr>\n",
       "            <td>White    </td> <td>54%     </td> <td>54%   </td> <td>0         </td> <td>0              </td>\n",
       "        </tr>\n",
       "    </tbody>\n",
       "        <tr>\n",
       "            <td>Other    </td> <td>1%      </td> <td>4%    </td> <td>-0.03     </td> <td>0.03           </td>\n",
       "        </tr>\n",
       "    </tbody>\n",
       "</table>"
      ],
      "text/plain": [
       "Ethnicity | Eligible | Panels | Difference | Abs. Difference\n",
       "Asian     | 15%      | 26%    | -0.11      | 0.11\n",
       "Black     | 18%      | 8%     | 0.1        | 0.1\n",
       "Latino    | 12%      | 8%     | 0.04       | 0.04\n",
       "White     | 54%      | 54%    | 0          | 0\n",
       "Other     | 1%       | 4%     | -0.03      | 0.03"
      ]
     },
     "execution_count": 17,
     "metadata": {},
     "output_type": "execute_result"
    }
   ],
   "source": [
    "abs_diff = diff.with_column('Abs. Difference',\n",
    "                        np.abs(diff.column('Difference')))\n",
    "abs_diff"
   ]
  },
  {
   "cell_type": "code",
   "execution_count": 18,
   "metadata": {},
   "outputs": [
    {
     "data": {
      "text/plain": [
       "0.14000000000000001"
      ]
     },
     "execution_count": 18,
     "metadata": {},
     "output_type": "execute_result"
    }
   ],
   "source": [
    "sum(abs_diff.column('Abs. Difference')) / 2"
   ]
  },
  {
   "cell_type": "code",
   "execution_count": 19,
   "metadata": {
    "collapsed": true
   },
   "outputs": [],
   "source": [
    "def total_variation_distance(distribution_1, distribution_2):\n",
    "    \"\"\"Each distribution is an array of proportions that sums to 1.\"\"\"\n",
    "    return np.abs(distribution_1 - distribution_2).sum()/2"
   ]
  },
  {
   "cell_type": "code",
   "execution_count": 20,
   "metadata": {
    "collapsed": true
   },
   "outputs": [],
   "source": [
    "def table_tvd(table, label_1, label_2):\n",
    "    return total_variation_distance(table.column(label_1), table.column(label_2))"
   ]
  },
  {
   "cell_type": "code",
   "execution_count": 21,
   "metadata": {},
   "outputs": [
    {
     "ename": "NameError",
     "evalue": "name 'swain' is not defined",
     "output_type": "error",
     "traceback": [
      "\u001b[0;31m---------------------------------------------------------------------------\u001b[0m",
      "\u001b[0;31mNameError\u001b[0m                                 Traceback (most recent call last)",
      "\u001b[0;32m<ipython-input-21-5c3a06651a1d>\u001b[0m in \u001b[0;36m<module>\u001b[0;34m()\u001b[0m\n\u001b[0;32m----> 1\u001b[0;31m \u001b[0mtable_tvd\u001b[0m\u001b[0;34m(\u001b[0m\u001b[0mswain\u001b[0m\u001b[0;34m,\u001b[0m \u001b[0;34m'Eligible'\u001b[0m\u001b[0;34m,\u001b[0m \u001b[0;34m'Panel'\u001b[0m\u001b[0;34m)\u001b[0m\u001b[0;34m\u001b[0m\u001b[0m\n\u001b[0m",
      "\u001b[0;31mNameError\u001b[0m: name 'swain' is not defined"
     ]
    }
   ],
   "source": [
    "table_tvd(swain, 'Eligible', 'Panel')"
   ]
  },
  {
   "cell_type": "code",
   "execution_count": null,
   "metadata": {
    "collapsed": true
   },
   "outputs": [],
   "source": []
  },
  {
   "cell_type": "code",
   "execution_count": null,
   "metadata": {},
   "outputs": [],
   "source": [
    "table_tvd(alameda, 'Eligible', 'Panels')"
   ]
  },
  {
   "cell_type": "markdown",
   "metadata": {},
   "source": [
    "## Simulating the statistic"
   ]
  },
  {
   "cell_type": "code",
   "execution_count": null,
   "metadata": {
    "collapsed": true
   },
   "outputs": [],
   "source": [
    "def get_one_simulated_panel():\n",
    "    return alameda.select('Ethnicity').sample(1453, weights=alameda.column('Eligible'))"
   ]
  },
  {
   "cell_type": "code",
   "execution_count": null,
   "metadata": {
    "collapsed": true
   },
   "outputs": [],
   "source": [
    "def simulate_once():\n",
    "    simulated_panel = get_one_simulated_panel()\n",
    "    counts = simulated_panel.group('Ethnicity')\n",
    "    sim_proportions = counts.select('Ethnicity').with_column('Random',\n",
    "                                    counts.column('count') / 1453)\n",
    "    sim_proportions.set_format(1, PercentFormatter(0))\n",
    "    return swain.join('Ethnicity', sim_proportions)"
   ]
  },
  {
   "cell_type": "code",
   "execution_count": null,
   "metadata": {},
   "outputs": [],
   "source": [
    "simulate_once()"
   ]
  },
  {
   "cell_type": "code",
   "execution_count": null,
   "metadata": {},
   "outputs": [],
   "source": [
    "# Compute the empirical distribution of TVDs\n",
    "\n",
    "tvds = make_array()\n",
    "\n",
    "for i in np.arange(1000): # 1000 repetitions of the simulation\n",
    "    sim_results = simulate_once()\n",
    "    tvds = np.append(tvds, table_tvd(sim_results, 'Eligible', 'Random'))\n",
    "\n",
    "results = Table().with_column('TVD', tvds)\n",
    "results"
   ]
  },
  {
   "cell_type": "code",
   "execution_count": null,
   "metadata": {},
   "outputs": [],
   "source": [
    "results.hist(bins=np.arange(0, 0.2, 0.01))"
   ]
  },
  {
   "cell_type": "markdown",
   "metadata": {},
   "source": [
    "## Alameda juries, analyzed differently"
   ]
  },
  {
   "cell_type": "code",
   "execution_count": null,
   "metadata": {},
   "outputs": [],
   "source": [
    "Table().with_columns('side', ['heads', 'tails']).sample(1000, weights=[.8, .2]).group(0)"
   ]
  },
  {
   "cell_type": "code",
   "execution_count": null,
   "metadata": {},
   "outputs": [],
   "source": [
    "def sample_from_distribution(t, category_label, distribution_label, sample_size):\n",
    "    categories = t.select(category_label)\n",
    "    distribution = t.column(distribution_label)\n",
    "    return categories.sample(sample_size, weights=distribution)\n",
    "\n",
    "sample_from_distribution(alameda, 'Ethnicity', 'Eligible', 10)"
   ]
  },
  {
   "cell_type": "code",
   "execution_count": null,
   "metadata": {},
   "outputs": [],
   "source": [
    "def with_random_sample(t, category_label, distribution_label, sample_size):\n",
    "    \"\"\"Return t with a column that contains category proportions of a random sample.\"\"\"\n",
    "    sample = sample_from_distribution(t, category_label, distribution_label, sample_size)\n",
    "    counts = sample.group(0)\n",
    "    sample_proportions = counts.select(0).with_column('Random', counts.column(1) / sample_size)\n",
    "    sample_proportions.set_format(1, PercentFormatter(0))\n",
    "    return t.join(category_label, sample_proportions)\n",
    "\n",
    "with_random_sample(alameda, 'Ethnicity', 'Eligible', 1453)"
   ]
  },
  {
   "cell_type": "markdown",
   "metadata": {},
   "source": [
    "### Repeated trials"
   ]
  },
  {
   "cell_type": "code",
   "execution_count": null,
   "metadata": {},
   "outputs": [],
   "source": [
    "# Compute the empirical distribution of TVDs\n",
    "\n",
    "tvds = make_array()\n",
    "\n",
    "for i in np.arange(1000): # Repetitions\n",
    "    new_sample = with_random_sample(alameda, 'Ethnicity', 'Eligible', 1453)\n",
    "    tvds = np.append(tvds, table_tvd(new_sample, 'Eligible', 'Random'))\n",
    "\n",
    "results = Table().with_column('TVD between the population & a random sample', tvds)\n",
    "results"
   ]
  },
  {
   "cell_type": "code",
   "execution_count": null,
   "metadata": {},
   "outputs": [],
   "source": [
    "results.hist(bins=np.arange(0, 0.2, 0.01))"
   ]
  },
  {
   "cell_type": "markdown",
   "metadata": {},
   "source": [
    "Discussion question: How do you think our analysis would change if the jury panels had only 50 people?"
   ]
  },
  {
   "cell_type": "code",
   "execution_count": null,
   "metadata": {},
   "outputs": [],
   "source": [
    "with_random_sample(panels, 'Ethnicity', 'Eligible', 50)"
   ]
  },
  {
   "cell_type": "code",
   "execution_count": null,
   "metadata": {},
   "outputs": [],
   "source": [
    "tvds = make_array()\n",
    "\n",
    "for i in np.arange(1000): # Repetitions\n",
    "    new_sample = with_random_sample(panels, 'Ethnicity', 'Eligible', 50)\n",
    "    tvds = np.append(tvds, table_tvd(new_sample, 'Eligible', 'Random'))\n",
    "\n",
    "results = Table().with_column('TVD between the population & a random sample', tvds)\n",
    "results.hist(bins=np.arange(0, 0.2, 0.01))"
   ]
  },
  {
   "cell_type": "markdown",
   "metadata": {
    "collapsed": true
   },
   "source": [
    "## Addendum: Alameda County Race & Ethnicity Distribution"
   ]
  },
  {
   "cell_type": "code",
   "execution_count": null,
   "metadata": {},
   "outputs": [],
   "source": [
    "# According to the 2010 Census, https://www.census.gov/2010census/popmap/\n",
    "\n",
    "alameda_race = Table(['Race', 'Population']).with_rows([\n",
    "    ['White', 649122],\n",
    "    ['African American', 190451],\n",
    "    ['Asian', 394560],\n",
    "    ['AIAN', 9799],\n",
    "    ['NHPI', 12802],\n",
    "    ['Some Other Race', 162540],\n",
    "    ['Two or more Races', 90997],\n",
    "])\n",
    "\n",
    "alameda_race.set_format(1, DistributionFormatter).show()\n",
    "\n",
    "alameda_ethnicity = Table(['Ethnicity', 'Population']).with_rows([\n",
    "    ['Hispanic or Latino', 339889],\n",
    "    ['Not Hispanic or Latino', 1170382],\n",
    "])\n",
    "\n",
    "alameda_ethnicity.set_format(1, DistributionFormatter).show()"
   ]
  },
  {
   "cell_type": "code",
   "execution_count": null,
   "metadata": {},
   "outputs": [],
   "source": [
    "panels"
   ]
  },
  {
   "cell_type": "markdown",
   "metadata": {},
   "source": [
    "## Chi-Squared (Optional)"
   ]
  },
  {
   "cell_type": "code",
   "execution_count": null,
   "metadata": {},
   "outputs": [],
   "source": [
    "def chi_squared(dist, other, sample_size):\n",
    "    return sum((dist - other) ** 2 / dist) * sample_size\n",
    "\n",
    "def table_xs(t, label, other, sample_size):\n",
    "    return chi_squared(t.column(label), t.column(other), sample_size)\n",
    "\n",
    "observed = table_xs(panels, 'Eligible', 'Panels', 1453)\n",
    "observed"
   ]
  },
  {
   "cell_type": "code",
   "execution_count": null,
   "metadata": {},
   "outputs": [],
   "source": [
    "table_xs(panels, 'Panels', 'Eligible', 1453)"
   ]
  },
  {
   "cell_type": "code",
   "execution_count": null,
   "metadata": {},
   "outputs": [],
   "source": [
    "xs = make_array()\n",
    "\n",
    "for i in np.arange(1000): # Repetitions\n",
    "    new_sample = with_random_sample(panels, 'Ethnicity', 'Eligible', 1453)\n",
    "    xs = np.append(xs, table_xs(new_sample, 'Eligible', 'Random', 1453))\n",
    "\n",
    "results = Table().with_column('Chi-Squared between the population & a random sample', xs)\n",
    "results.hist()"
   ]
  },
  {
   "cell_type": "markdown",
   "metadata": {},
   "source": [
    "## P-Value"
   ]
  },
  {
   "cell_type": "code",
   "execution_count": null,
   "metadata": {},
   "outputs": [],
   "source": [
    "results.where(0, are.above_or_equal_to(observed)).num_rows / results.num_rows"
   ]
  },
  {
   "cell_type": "markdown",
   "metadata": {},
   "source": [
    "## Swain v. Alabama, repeat"
   ]
  },
  {
   "cell_type": "code",
   "execution_count": null,
   "metadata": {},
   "outputs": [],
   "source": [
    "swain = Table().with_columns(\n",
    "    'Ethnicity', make_array('Black', 'Other'),\n",
    "    'Eligible', make_array(0.26, 0.74),\n",
    "    'Panel', make_array(0.08, 0.92)\n",
    ")\n",
    "\n",
    "swain.set_format([1, 2], PercentFormatter(0))"
   ]
  },
  {
   "cell_type": "code",
   "execution_count": null,
   "metadata": {},
   "outputs": [],
   "source": [
    "swain.barh(0)"
   ]
  },
  {
   "cell_type": "code",
   "execution_count": null,
   "metadata": {},
   "outputs": [],
   "source": [
    "simulate_once(swain, 100)"
   ]
  },
  {
   "cell_type": "code",
   "execution_count": null,
   "metadata": {},
   "outputs": [],
   "source": [
    "# Compute the empirical distribution of TVDs\n",
    "\n",
    "tvds = make_array()\n",
    "\n",
    "for i in np.arange(10000): # 10000 repetitions of the simulation\n",
    "    sim_results = simulate_once(swain, 100)\n",
    "    tvds = np.append(tvds, table_tvd(sim_results, 'Eligible', 'Random'))\n",
    "\n",
    "results = Table().with_column('TVD between the population & a random sample', tvds)\n",
    "results"
   ]
  },
  {
   "cell_type": "code",
   "execution_count": null,
   "metadata": {},
   "outputs": [],
   "source": [
    "results.hist(bins=np.arange(0, 0.20, 0.010))"
   ]
  }
 ],
 "metadata": {
  "kernelspec": {
   "display_name": "Python 3",
   "language": "python",
   "name": "python3"
  },
  "language_info": {
   "codemirror_mode": {
    "name": "ipython",
    "version": 3
   },
   "file_extension": ".py",
   "mimetype": "text/x-python",
   "name": "python",
   "nbconvert_exporter": "python",
   "pygments_lexer": "ipython3",
   "version": "3.6.1"
  }
 },
 "nbformat": 4,
 "nbformat_minor": 2
}
